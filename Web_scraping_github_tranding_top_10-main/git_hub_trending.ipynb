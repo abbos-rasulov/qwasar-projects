{
  "nbformat": 4,
  "nbformat_minor": 0,
  "metadata": {
    "colab": {
      "name": "Untitled0.ipynb",
      "provenance": [],
      "toc_visible": true,
      "authorship_tag": "ABX9TyNg+TVe9I371OiDV8o2hHXC",
      "include_colab_link": true
    },
    "kernelspec": {
      "name": "python3",
      "display_name": "Python 3"
    },
    "language_info": {
      "name": "python"
    }
  },
  "cells": [
    {
      "cell_type": "markdown",
      "metadata": {
        "id": "view-in-github",
        "colab_type": "text"
      },
      "source": [
        "<a href=\"https://colab.research.google.com/github/Abboskhan01/Web_scraping_github_tranding_top_10/blob/main/git_hub_trending.ipynb\" target=\"_parent\"><img src=\"https://colab.research.google.com/assets/colab-badge.svg\" alt=\"Open In Colab\"/></a>"
      ]
    },
    {
      "cell_type": "code",
      "source": [
        "import requests \n",
        "from bs4 import BeautifulSoup\n",
        "\n",
        "\n",
        "def request_github_trending(url):\n",
        "    return requests.get(url)\n",
        "\n",
        "\n",
        "def extract(page):\n",
        "    soup = BeautifulSoup(page.text, \"html.parser\")\n",
        "    return soup.find_all(\"article\")\n",
        "\n",
        "\n",
        "def transform(html_repos):\n",
        "    result = []\n",
        "    for row in html_repos:\n",
        "        repository_name = ''.join(row.select_one('h1.h3.lh-condensed').text.split())\n",
        "        nbr_stars = ' '.join(row.select_one('a.Link--muted.d-inline-block.mr-3').text.split())\n",
        "        try:\n",
        "            NAME = row.select_one('img.avatar.mb-1.avatar-user')['alt']   \n",
        "        except:\n",
        "            NAME = \"no_name\"        \n",
        "        result.append({'developer' : NAME, 'repository_name' : repository_name, 'nbr_stars' : nbr_stars})\n",
        "    return result\n",
        "\n",
        "\n",
        "def format(repositories_data):\n",
        "    result = [\"Developer, Repository Name, Number of Stars\"]\n",
        "    for repos in repositories_data:\n",
        "        row = [repos['developer'], repos['repository_name'], repos[\"nbr_stars\"]]\n",
        "        result.append(', '.join(row))\n",
        "    return \"\\n\".join(result)\n",
        "\n",
        "\n",
        "def _main():\n",
        "    url = \"https://github.com/trending\"\n",
        "    page = request_github_trending(url)\n",
        "    html_repos = extract(page)\n",
        "    repositories_data = transform(html_repos)\n",
        "    print(format(repositories_data))\n",
        "_main()\n"
      ],
      "metadata": {
        "colab": {
          "base_uri": "https://localhost:8080/"
        },
        "id": "4Vj3Bd8QS_1Q",
        "outputId": "ee0eedbb-b993-4f33-b357-dcab08a8338d"
      },
      "execution_count": 1,
      "outputs": [
        {
          "output_type": "stream",
          "name": "stdout",
          "text": [
            "Developer, Repository Name, Number of Stars\n",
            "@jntrnr, SerenityOS/jakt, 736\n",
            "@M66B, M66B/FairEmail, 518\n",
            "@matheusfelipeog, public-apis/public-apis, 193,357\n",
            "@jamiepine, spacedriveapp/spacedrive, 9,774\n",
            "@ghidra1, NationalSecurityAgency/ghidra, 32,798\n",
            "@rustdesk, rustdesk/rustdesk, 19,500\n",
            "@MichaelCade, MichaelCade/90DaysOfDevOps, 12,858\n",
            "@github-education, education/GitHubGraduation-2022, 1,114\n",
            "@0age, ProjectOpenSea/seaport, 552\n",
            "@Bassantyasser043, ACM-Alexandria-SC/Internships, 515\n",
            "@yujincheng08, LSPosed/MagiskOnWSA, 13,314\n",
            "@balloob, home-assistant/core, 52,725\n",
            "@danistefanovic, codecrafters-io/build-your-own-x, 142,072\n",
            "@sharkdp, sharkdp/fd, 22,862\n",
            "@Mandeepsinghmar, adrianhajdin/project_syncfusion_dashboard, 275\n",
            "@WeChat-Big-Data-Challenge-2022, WeChat-Big-Data-Challenge-2022/challenge, 109\n",
            "@lukepistrol, CodeEditApp/CodeEdit, 9,673\n",
            "@lawl, noisetorch/NoiseTorch, 6,524\n",
            "@jlooper, microsoft/Web-Dev-For-Beginners, 51,267\n",
            "@sunym1993, sunym1993/flash-linux0.11-talk, 10,579\n",
            "@ericdouglas, ossu/computer-science, 113,906\n",
            "@MunGell, MunGell/awesome-for-beginners, 40,311\n",
            "@pavelfeldman, microsoft/playwright, 38,290\n",
            "@renovate-bot, KaTeX/KaTeX, 15,339\n",
            "@3b1b, 3b1b/manim, 44,553\n"
          ]
        }
      ]
    }
  ]
}